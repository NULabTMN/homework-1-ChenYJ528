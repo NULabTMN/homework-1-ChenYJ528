{
  "nbformat": 4,
  "nbformat_minor": 0,
  "metadata": {
    "colab": {
      "name": "term-statistics.ipynb",
      "provenance": [],
      "include_colab_link": true
    },
    "kernelspec": {
      "name": "python3",
      "display_name": "Python 3"
    },
    "language_info": {
      "name": "python"
    }
  },
  "cells": [
    {
      "cell_type": "markdown",
      "metadata": {
        "id": "view-in-github",
        "colab_type": "text"
      },
      "source": [
        "<a href=\"https://colab.research.google.com/github/NULabTMN/homework-1-ChenYJ528/blob/main/term_statistics.ipynb\" target=\"_parent\"><img src=\"https://colab.research.google.com/assets/colab-badge.svg\" alt=\"Open In Colab\"/></a>"
      ]
    },
    {
      "cell_type": "markdown",
      "metadata": {
        "id": "2yYCQrU0J5C5"
      },
      "source": [
        "# Working with Terms and Documents\n",
        "\n",
        "This exercise starts off with term statistics computations and graphing. In the final section (for CS6200 students), you collect new documents to experiment with.\n",
        "\n",
        "Read through this Jupyter notebook and fill in the parts marked with `TODO`."
      ]
    },
    {
      "cell_type": "markdown",
      "metadata": {
        "id": "tA4bCPS1MmAx"
      },
      "source": [
        "## Sample Data\n",
        "\n",
        "Start by looking at some sample data. We donwload the counts of terms in documents for the first one million tokens of a newswire collection."
      ]
    },
    {
      "cell_type": "code",
      "metadata": {
        "id": "W-IMINS4IFUg",
        "outputId": "565454a4-c954-488c-8581-3f06353cf652",
        "colab": {
          "base_uri": "https://localhost:8080/"
        }
      },
      "source": [
        "!wget -O ap201001.json.gz https://github.com/dasmiq/cs6200-documents/blob/main/ap201001.json.gz?raw=true\n",
        "!gunzip ap201001.json.gz"
      ],
      "execution_count": 1,
      "outputs": [
        {
          "output_type": "stream",
          "name": "stdout",
          "text": [
            "--2025-01-30 20:55:59--  https://github.com/dasmiq/cs6200-documents/blob/main/ap201001.json.gz?raw=true\n",
            "Resolving github.com (github.com)... 140.82.113.3\n",
            "Connecting to github.com (github.com)|140.82.113.3|:443... connected.\n",
            "HTTP request sent, awaiting response... 302 Found\n",
            "Location: https://github.com/dasmiq/cs6200-documents/raw/refs/heads/main/ap201001.json.gz [following]\n",
            "--2025-01-30 20:56:00--  https://github.com/dasmiq/cs6200-documents/raw/refs/heads/main/ap201001.json.gz\n",
            "Reusing existing connection to github.com:443.\n",
            "HTTP request sent, awaiting response... 302 Found\n",
            "Location: https://raw.githubusercontent.com/dasmiq/cs6200-documents/refs/heads/main/ap201001.json.gz [following]\n",
            "--2025-01-30 20:56:00--  https://raw.githubusercontent.com/dasmiq/cs6200-documents/refs/heads/main/ap201001.json.gz\n",
            "Resolving raw.githubusercontent.com (raw.githubusercontent.com)... 185.199.111.133, 185.199.110.133, 185.199.109.133, ...\n",
            "Connecting to raw.githubusercontent.com (raw.githubusercontent.com)|185.199.111.133|:443... connected.\n",
            "HTTP request sent, awaiting response... 200 OK\n",
            "Length: 2854711 (2.7M) [application/octet-stream]\n",
            "Saving to: ‘ap201001.json.gz’\n",
            "\n",
            "ap201001.json.gz    100%[===================>]   2.72M  --.-KB/s    in 0.09s   \n",
            "\n",
            "2025-01-30 20:56:01 (31.7 MB/s) - ‘ap201001.json.gz’ saved [2854711/2854711]\n",
            "\n",
            "gzip: ap201001.json already exists; do you wish to overwrite (y or n)? y\n"
          ]
        }
      ]
    },
    {
      "cell_type": "markdown",
      "metadata": {
        "id": "_SEFjGZvM4lY"
      },
      "source": [
        "We convert this file with one JSON record on each line to a list of dictionaries."
      ]
    },
    {
      "cell_type": "code",
      "metadata": {
        "id": "6CrLD5SOIMz1"
      },
      "source": [
        "import json\n",
        "rawfile = open('ap201001.json')\n",
        "terms = [json.loads(line) for line in rawfile]"
      ],
      "execution_count": 2,
      "outputs": []
    },
    {
      "cell_type": "markdown",
      "metadata": {
        "id": "Rg4P9XJJM_lZ"
      },
      "source": [
        "Here are the first ten records, showing the count of each term for each document and field. In this dataset, field only takes the values `body` or `title`."
      ]
    },
    {
      "cell_type": "code",
      "metadata": {
        "colab": {
          "base_uri": "https://localhost:8080/"
        },
        "id": "g8GdOuyzI0wm",
        "outputId": "01408fa8-34d0-457f-a0f1-d211ae46b6d3"
      },
      "source": [
        "terms[1:10]"
      ],
      "execution_count": 3,
      "outputs": [
        {
          "output_type": "execute_result",
          "data": {
            "text/plain": [
              "[{'id': 'APW_ENG_20100101.0001', 'field': 'body', 'term': 'about', 'count': 1},\n",
              " {'id': 'APW_ENG_20100101.0001', 'field': 'body', 'term': 'abuse', 'count': 1},\n",
              " {'id': 'APW_ENG_20100101.0001',\n",
              "  'field': 'body',\n",
              "  'term': 'academy',\n",
              "  'count': 1},\n",
              " {'id': 'APW_ENG_20100101.0001',\n",
              "  'field': 'body',\n",
              "  'term': 'accused',\n",
              "  'count': 2},\n",
              " {'id': 'APW_ENG_20100101.0001',\n",
              "  'field': 'body',\n",
              "  'term': 'actress',\n",
              "  'count': 1},\n",
              " {'id': 'APW_ENG_20100101.0001', 'field': 'body', 'term': 'ad', 'count': 1},\n",
              " {'id': 'APW_ENG_20100101.0001', 'field': 'body', 'term': 'after', 'count': 1},\n",
              " {'id': 'APW_ENG_20100101.0001',\n",
              "  'field': 'body',\n",
              "  'term': 'agenda',\n",
              "  'count': 1},\n",
              " {'id': 'APW_ENG_20100101.0001',\n",
              "  'field': 'body',\n",
              "  'term': 'agreed',\n",
              "  'count': 1}]"
            ]
          },
          "metadata": {},
          "execution_count": 3
        }
      ]
    },
    {
      "cell_type": "markdown",
      "metadata": {
        "id": "q-CjFLXH3BJg"
      },
      "source": [
        "Each record has four fields:\n",
        "* `id`, with the identifier for the document;\n",
        "* `field`, with the region of the document containing a given term;\n",
        "* `term`, with the lower-cased term; and\n",
        "* `count`, with the number of times each term occurred in that field and document."
      ]
    },
    {
      "cell_type": "markdown",
      "metadata": {
        "id": "2H5yBvEVNUPr"
      },
      "source": [
        "## Computing Term Statistics\n"
      ]
    },
    {
      "cell_type": "markdown",
      "metadata": {
        "id": "qhDt23kKv0Uy"
      },
      "source": [
        "If we look at the most frequent terms for a given document, we mostly see common function words, such as `the`, `and`, and `of`. Start exploring the dataset by computing some of these basic term statistics. You can make your life easier using data frame libraries such as `pandas`, core python libraries such as `collections`, or just simple list comprehensions.\n",
        "\n",
        "Feel free to define helper functions in your code before computing the statistics we're looking for."
      ]
    },
    {
      "cell_type": "code",
      "metadata": {
        "id": "2Zy5qR562nZ5",
        "outputId": "f58071e7-a53d-43a5-ea83-eb6d3ba7bdc8",
        "colab": {
          "base_uri": "https://localhost:8080/"
        }
      },
      "source": [
        "# TODO: Print the 10 terms from document APW_ENG_20100101.0001 with the highest count.\n",
        "import pandas as pd\n",
        "data = pd.DataFrame(terms)\n",
        "doc = data[data['id']=='APW_ENG_20100101.0001']\n",
        "print(doc.sort_values(by=\"count\", ascending=False)[:10][['term','count']])"
      ],
      "execution_count": 4,
      "outputs": [
        {
          "output_type": "stream",
          "name": "stdout",
          "text": [
            "       term  count\n",
            "0         a     16\n",
            "192     the     11\n",
            "133      of     10\n",
            "198      to     10\n",
            "34   brooks     10\n",
            "15      and     10\n",
            "95       in      9\n",
            "86       he      9\n",
            "81    gomez      8\n",
            "164    said      6\n"
          ]
        }
      ]
    },
    {
      "cell_type": "code",
      "metadata": {
        "id": "U7OwCo0w5R1q",
        "outputId": "35b83f64-0e51-4db8-d921-3eea1b6a68dd",
        "colab": {
          "base_uri": "https://localhost:8080/"
        }
      },
      "source": [
        "# TODO: Print the 10 terms with the highest total count in the corpus.\n",
        "print(data[[\"term\",\"count\"]].groupby(\"term\", as_index=False).sum().sort_values(by=\"count\", ascending=False)[:10])"
      ],
      "execution_count": 5,
      "outputs": [
        {
          "output_type": "stream",
          "name": "stdout",
          "text": [
            "       term  count\n",
            "24646   the  62216\n",
            "24900    to  26931\n",
            "11865    in  25659\n",
            "0         a  23383\n",
            "16991    of  22326\n",
            "944     and  22125\n",
            "21244  said  10888\n",
            "9269    for   9716\n",
            "17109    on   9382\n",
            "24639  that   8942\n"
          ]
        }
      ]
    },
    {
      "cell_type": "markdown",
      "metadata": {
        "id": "dnNEUACW23Dd"
      },
      "source": [
        "Raw counts may not be the most informative statistic. One common improvement is to use *inverse document frequency*, the inverse of the proportion of documents that contain a given term."
      ]
    },
    {
      "cell_type": "code",
      "metadata": {
        "id": "uiUA502P2QkH"
      },
      "source": [
        "# TODO: Compute the number of distinct documents in the collection.\n",
        "N = len(set(data['id']))\n",
        "\n",
        "# TODO: Compute the number of distinct documents each term appears in\n",
        "# and store in a dictionary.\n",
        "df = data.groupby(\"term\")[\"id\"].nunique().to_dict()"
      ],
      "execution_count": 6,
      "outputs": []
    },
    {
      "cell_type": "code",
      "metadata": {
        "id": "_XMPAKYNCq6Y",
        "outputId": "551f810b-fd8f-44e1-9fcc-fb7297889fd9",
        "colab": {
          "base_uri": "https://localhost:8080/"
        }
      },
      "source": [
        "# TODO: Print the relative document frequency of 'the',\n",
        "# i.e., the number of documents that contain 'the' divided by N.\n",
        "df['the'] / N"
      ],
      "execution_count": 7,
      "outputs": [
        {
          "output_type": "execute_result",
          "data": {
            "text/plain": [
              "0.9704823614110871"
            ]
          },
          "metadata": {},
          "execution_count": 7
        }
      ]
    },
    {
      "cell_type": "markdown",
      "metadata": {
        "id": "ohFmwtc7Chy3"
      },
      "source": [
        "Empricially, we usually see better retrieval results if we rescale term frequency (within documents) and inverse document frequency (across documents) with the log function. Let the `tfidf` of term _t_ in document _d_ be:\n",
        "```\n",
        "tfidf(t, d) = log(count(t, d) + 1) * log(N / df(t))\n",
        "```\n",
        "\n",
        "Later in the course, we will show a probabilistic derivation of this quantity based on smoothing language models."
      ]
    },
    {
      "cell_type": "code",
      "metadata": {
        "id": "Fmyj4v_uHdyo"
      },
      "source": [
        "# TODO: Compute the tf-idf value for each term in each document.\n",
        "# Take the raw term data and add a tfidf field to each record.\n",
        "import numpy as np\n",
        "tfidf_terms = data.apply(lambda row: np.log(row[\"count\"] + 1) * np.log(N / df[row[\"term\"]]), axis=1)"
      ],
      "execution_count": 8,
      "outputs": []
    },
    {
      "cell_type": "code",
      "metadata": {
        "id": "NlXQmMO9HxH0",
        "outputId": "2a1c7078-8611-4408-fbbe-bc6124b1e674",
        "colab": {
          "base_uri": "https://localhost:8080/",
          "height": 677
        }
      },
      "source": [
        "# TODO: Print the 20 term-document pairs with the highest tf-idf values.\n",
        "data['tfidf'] = tfidf_terms\n",
        "data.sort_values(by='tfidf', ascending=False)[:20][['id', 'term']]"
      ],
      "execution_count": 9,
      "outputs": [
        {
          "output_type": "execute_result",
          "data": {
            "text/plain": [
              "                           id         term\n",
              "52727   APW_ENG_20100103.0028      guarani\n",
              "199263  APW_ENG_20100105.0061   nomination\n",
              "234566  APW_ENG_20100105.0446      methane\n",
              "192483  APW_ENG_20100105.0014    greyhound\n",
              "48925   APW_ENG_20100103.0015       kheire\n",
              "433679  APW_ENG_20100107.0036  shakespeare\n",
              "199179  APW_ENG_20100105.0061        guild\n",
              "342740  APW_ENG_20100106.0428  shakespeare\n",
              "305769  APW_ENG_20100106.0075        magna\n",
              "21195   APW_ENG_20100102.0197      elkhart\n",
              "426716  APW_ENG_20100106.1325       sutton\n",
              "107822  APW_ENG_20100104.0043        tohti\n",
              "192485  APW_ENG_20100105.0014   greyhounds\n",
              "522469  APW_ENG_20100107.0928       minhas\n",
              "430676  APW_ENG_20100107.0018        krewe\n",
              "199177  APW_ENG_20100105.0061       golden\n",
              "199053  APW_ENG_20100105.0061       actors\n",
              "430762  APW_ENG_20100107.0018       pirate\n",
              "49706   APW_ENG_20100103.0016         punk\n",
              "310388  APW_ENG_20100106.0114       zabrin"
            ],
            "text/html": [
              "\n",
              "  <div id=\"df-5cf2a0bd-7e78-49ba-a89c-c480f00caba2\" class=\"colab-df-container\">\n",
              "    <div>\n",
              "<style scoped>\n",
              "    .dataframe tbody tr th:only-of-type {\n",
              "        vertical-align: middle;\n",
              "    }\n",
              "\n",
              "    .dataframe tbody tr th {\n",
              "        vertical-align: top;\n",
              "    }\n",
              "\n",
              "    .dataframe thead th {\n",
              "        text-align: right;\n",
              "    }\n",
              "</style>\n",
              "<table border=\"1\" class=\"dataframe\">\n",
              "  <thead>\n",
              "    <tr style=\"text-align: right;\">\n",
              "      <th></th>\n",
              "      <th>id</th>\n",
              "      <th>term</th>\n",
              "    </tr>\n",
              "  </thead>\n",
              "  <tbody>\n",
              "    <tr>\n",
              "      <th>52727</th>\n",
              "      <td>APW_ENG_20100103.0028</td>\n",
              "      <td>guarani</td>\n",
              "    </tr>\n",
              "    <tr>\n",
              "      <th>199263</th>\n",
              "      <td>APW_ENG_20100105.0061</td>\n",
              "      <td>nomination</td>\n",
              "    </tr>\n",
              "    <tr>\n",
              "      <th>234566</th>\n",
              "      <td>APW_ENG_20100105.0446</td>\n",
              "      <td>methane</td>\n",
              "    </tr>\n",
              "    <tr>\n",
              "      <th>192483</th>\n",
              "      <td>APW_ENG_20100105.0014</td>\n",
              "      <td>greyhound</td>\n",
              "    </tr>\n",
              "    <tr>\n",
              "      <th>48925</th>\n",
              "      <td>APW_ENG_20100103.0015</td>\n",
              "      <td>kheire</td>\n",
              "    </tr>\n",
              "    <tr>\n",
              "      <th>433679</th>\n",
              "      <td>APW_ENG_20100107.0036</td>\n",
              "      <td>shakespeare</td>\n",
              "    </tr>\n",
              "    <tr>\n",
              "      <th>199179</th>\n",
              "      <td>APW_ENG_20100105.0061</td>\n",
              "      <td>guild</td>\n",
              "    </tr>\n",
              "    <tr>\n",
              "      <th>342740</th>\n",
              "      <td>APW_ENG_20100106.0428</td>\n",
              "      <td>shakespeare</td>\n",
              "    </tr>\n",
              "    <tr>\n",
              "      <th>305769</th>\n",
              "      <td>APW_ENG_20100106.0075</td>\n",
              "      <td>magna</td>\n",
              "    </tr>\n",
              "    <tr>\n",
              "      <th>21195</th>\n",
              "      <td>APW_ENG_20100102.0197</td>\n",
              "      <td>elkhart</td>\n",
              "    </tr>\n",
              "    <tr>\n",
              "      <th>426716</th>\n",
              "      <td>APW_ENG_20100106.1325</td>\n",
              "      <td>sutton</td>\n",
              "    </tr>\n",
              "    <tr>\n",
              "      <th>107822</th>\n",
              "      <td>APW_ENG_20100104.0043</td>\n",
              "      <td>tohti</td>\n",
              "    </tr>\n",
              "    <tr>\n",
              "      <th>192485</th>\n",
              "      <td>APW_ENG_20100105.0014</td>\n",
              "      <td>greyhounds</td>\n",
              "    </tr>\n",
              "    <tr>\n",
              "      <th>522469</th>\n",
              "      <td>APW_ENG_20100107.0928</td>\n",
              "      <td>minhas</td>\n",
              "    </tr>\n",
              "    <tr>\n",
              "      <th>430676</th>\n",
              "      <td>APW_ENG_20100107.0018</td>\n",
              "      <td>krewe</td>\n",
              "    </tr>\n",
              "    <tr>\n",
              "      <th>199177</th>\n",
              "      <td>APW_ENG_20100105.0061</td>\n",
              "      <td>golden</td>\n",
              "    </tr>\n",
              "    <tr>\n",
              "      <th>199053</th>\n",
              "      <td>APW_ENG_20100105.0061</td>\n",
              "      <td>actors</td>\n",
              "    </tr>\n",
              "    <tr>\n",
              "      <th>430762</th>\n",
              "      <td>APW_ENG_20100107.0018</td>\n",
              "      <td>pirate</td>\n",
              "    </tr>\n",
              "    <tr>\n",
              "      <th>49706</th>\n",
              "      <td>APW_ENG_20100103.0016</td>\n",
              "      <td>punk</td>\n",
              "    </tr>\n",
              "    <tr>\n",
              "      <th>310388</th>\n",
              "      <td>APW_ENG_20100106.0114</td>\n",
              "      <td>zabrin</td>\n",
              "    </tr>\n",
              "  </tbody>\n",
              "</table>\n",
              "</div>\n",
              "    <div class=\"colab-df-buttons\">\n",
              "\n",
              "  <div class=\"colab-df-container\">\n",
              "    <button class=\"colab-df-convert\" onclick=\"convertToInteractive('df-5cf2a0bd-7e78-49ba-a89c-c480f00caba2')\"\n",
              "            title=\"Convert this dataframe to an interactive table.\"\n",
              "            style=\"display:none;\">\n",
              "\n",
              "  <svg xmlns=\"http://www.w3.org/2000/svg\" height=\"24px\" viewBox=\"0 -960 960 960\">\n",
              "    <path d=\"M120-120v-720h720v720H120Zm60-500h600v-160H180v160Zm220 220h160v-160H400v160Zm0 220h160v-160H400v160ZM180-400h160v-160H180v160Zm440 0h160v-160H620v160ZM180-180h160v-160H180v160Zm440 0h160v-160H620v160Z\"/>\n",
              "  </svg>\n",
              "    </button>\n",
              "\n",
              "  <style>\n",
              "    .colab-df-container {\n",
              "      display:flex;\n",
              "      gap: 12px;\n",
              "    }\n",
              "\n",
              "    .colab-df-convert {\n",
              "      background-color: #E8F0FE;\n",
              "      border: none;\n",
              "      border-radius: 50%;\n",
              "      cursor: pointer;\n",
              "      display: none;\n",
              "      fill: #1967D2;\n",
              "      height: 32px;\n",
              "      padding: 0 0 0 0;\n",
              "      width: 32px;\n",
              "    }\n",
              "\n",
              "    .colab-df-convert:hover {\n",
              "      background-color: #E2EBFA;\n",
              "      box-shadow: 0px 1px 2px rgba(60, 64, 67, 0.3), 0px 1px 3px 1px rgba(60, 64, 67, 0.15);\n",
              "      fill: #174EA6;\n",
              "    }\n",
              "\n",
              "    .colab-df-buttons div {\n",
              "      margin-bottom: 4px;\n",
              "    }\n",
              "\n",
              "    [theme=dark] .colab-df-convert {\n",
              "      background-color: #3B4455;\n",
              "      fill: #D2E3FC;\n",
              "    }\n",
              "\n",
              "    [theme=dark] .colab-df-convert:hover {\n",
              "      background-color: #434B5C;\n",
              "      box-shadow: 0px 1px 3px 1px rgba(0, 0, 0, 0.15);\n",
              "      filter: drop-shadow(0px 1px 2px rgba(0, 0, 0, 0.3));\n",
              "      fill: #FFFFFF;\n",
              "    }\n",
              "  </style>\n",
              "\n",
              "    <script>\n",
              "      const buttonEl =\n",
              "        document.querySelector('#df-5cf2a0bd-7e78-49ba-a89c-c480f00caba2 button.colab-df-convert');\n",
              "      buttonEl.style.display =\n",
              "        google.colab.kernel.accessAllowed ? 'block' : 'none';\n",
              "\n",
              "      async function convertToInteractive(key) {\n",
              "        const element = document.querySelector('#df-5cf2a0bd-7e78-49ba-a89c-c480f00caba2');\n",
              "        const dataTable =\n",
              "          await google.colab.kernel.invokeFunction('convertToInteractive',\n",
              "                                                    [key], {});\n",
              "        if (!dataTable) return;\n",
              "\n",
              "        const docLinkHtml = 'Like what you see? Visit the ' +\n",
              "          '<a target=\"_blank\" href=https://colab.research.google.com/notebooks/data_table.ipynb>data table notebook</a>'\n",
              "          + ' to learn more about interactive tables.';\n",
              "        element.innerHTML = '';\n",
              "        dataTable['output_type'] = 'display_data';\n",
              "        await google.colab.output.renderOutput(dataTable, element);\n",
              "        const docLink = document.createElement('div');\n",
              "        docLink.innerHTML = docLinkHtml;\n",
              "        element.appendChild(docLink);\n",
              "      }\n",
              "    </script>\n",
              "  </div>\n",
              "\n",
              "\n",
              "<div id=\"df-e92425db-3920-4599-846b-e772716e9a17\">\n",
              "  <button class=\"colab-df-quickchart\" onclick=\"quickchart('df-e92425db-3920-4599-846b-e772716e9a17')\"\n",
              "            title=\"Suggest charts\"\n",
              "            style=\"display:none;\">\n",
              "\n",
              "<svg xmlns=\"http://www.w3.org/2000/svg\" height=\"24px\"viewBox=\"0 0 24 24\"\n",
              "     width=\"24px\">\n",
              "    <g>\n",
              "        <path d=\"M19 3H5c-1.1 0-2 .9-2 2v14c0 1.1.9 2 2 2h14c1.1 0 2-.9 2-2V5c0-1.1-.9-2-2-2zM9 17H7v-7h2v7zm4 0h-2V7h2v10zm4 0h-2v-4h2v4z\"/>\n",
              "    </g>\n",
              "</svg>\n",
              "  </button>\n",
              "\n",
              "<style>\n",
              "  .colab-df-quickchart {\n",
              "      --bg-color: #E8F0FE;\n",
              "      --fill-color: #1967D2;\n",
              "      --hover-bg-color: #E2EBFA;\n",
              "      --hover-fill-color: #174EA6;\n",
              "      --disabled-fill-color: #AAA;\n",
              "      --disabled-bg-color: #DDD;\n",
              "  }\n",
              "\n",
              "  [theme=dark] .colab-df-quickchart {\n",
              "      --bg-color: #3B4455;\n",
              "      --fill-color: #D2E3FC;\n",
              "      --hover-bg-color: #434B5C;\n",
              "      --hover-fill-color: #FFFFFF;\n",
              "      --disabled-bg-color: #3B4455;\n",
              "      --disabled-fill-color: #666;\n",
              "  }\n",
              "\n",
              "  .colab-df-quickchart {\n",
              "    background-color: var(--bg-color);\n",
              "    border: none;\n",
              "    border-radius: 50%;\n",
              "    cursor: pointer;\n",
              "    display: none;\n",
              "    fill: var(--fill-color);\n",
              "    height: 32px;\n",
              "    padding: 0;\n",
              "    width: 32px;\n",
              "  }\n",
              "\n",
              "  .colab-df-quickchart:hover {\n",
              "    background-color: var(--hover-bg-color);\n",
              "    box-shadow: 0 1px 2px rgba(60, 64, 67, 0.3), 0 1px 3px 1px rgba(60, 64, 67, 0.15);\n",
              "    fill: var(--button-hover-fill-color);\n",
              "  }\n",
              "\n",
              "  .colab-df-quickchart-complete:disabled,\n",
              "  .colab-df-quickchart-complete:disabled:hover {\n",
              "    background-color: var(--disabled-bg-color);\n",
              "    fill: var(--disabled-fill-color);\n",
              "    box-shadow: none;\n",
              "  }\n",
              "\n",
              "  .colab-df-spinner {\n",
              "    border: 2px solid var(--fill-color);\n",
              "    border-color: transparent;\n",
              "    border-bottom-color: var(--fill-color);\n",
              "    animation:\n",
              "      spin 1s steps(1) infinite;\n",
              "  }\n",
              "\n",
              "  @keyframes spin {\n",
              "    0% {\n",
              "      border-color: transparent;\n",
              "      border-bottom-color: var(--fill-color);\n",
              "      border-left-color: var(--fill-color);\n",
              "    }\n",
              "    20% {\n",
              "      border-color: transparent;\n",
              "      border-left-color: var(--fill-color);\n",
              "      border-top-color: var(--fill-color);\n",
              "    }\n",
              "    30% {\n",
              "      border-color: transparent;\n",
              "      border-left-color: var(--fill-color);\n",
              "      border-top-color: var(--fill-color);\n",
              "      border-right-color: var(--fill-color);\n",
              "    }\n",
              "    40% {\n",
              "      border-color: transparent;\n",
              "      border-right-color: var(--fill-color);\n",
              "      border-top-color: var(--fill-color);\n",
              "    }\n",
              "    60% {\n",
              "      border-color: transparent;\n",
              "      border-right-color: var(--fill-color);\n",
              "    }\n",
              "    80% {\n",
              "      border-color: transparent;\n",
              "      border-right-color: var(--fill-color);\n",
              "      border-bottom-color: var(--fill-color);\n",
              "    }\n",
              "    90% {\n",
              "      border-color: transparent;\n",
              "      border-bottom-color: var(--fill-color);\n",
              "    }\n",
              "  }\n",
              "</style>\n",
              "\n",
              "  <script>\n",
              "    async function quickchart(key) {\n",
              "      const quickchartButtonEl =\n",
              "        document.querySelector('#' + key + ' button');\n",
              "      quickchartButtonEl.disabled = true;  // To prevent multiple clicks.\n",
              "      quickchartButtonEl.classList.add('colab-df-spinner');\n",
              "      try {\n",
              "        const charts = await google.colab.kernel.invokeFunction(\n",
              "            'suggestCharts', [key], {});\n",
              "      } catch (error) {\n",
              "        console.error('Error during call to suggestCharts:', error);\n",
              "      }\n",
              "      quickchartButtonEl.classList.remove('colab-df-spinner');\n",
              "      quickchartButtonEl.classList.add('colab-df-quickchart-complete');\n",
              "    }\n",
              "    (() => {\n",
              "      let quickchartButtonEl =\n",
              "        document.querySelector('#df-e92425db-3920-4599-846b-e772716e9a17 button');\n",
              "      quickchartButtonEl.style.display =\n",
              "        google.colab.kernel.accessAllowed ? 'block' : 'none';\n",
              "    })();\n",
              "  </script>\n",
              "</div>\n",
              "\n",
              "    </div>\n",
              "  </div>\n"
            ],
            "application/vnd.google.colaboratory.intrinsic+json": {
              "type": "dataframe",
              "summary": "{\n  \"name\": \"data\",\n  \"rows\": 20,\n  \"fields\": [\n    {\n      \"column\": \"id\",\n      \"properties\": {\n        \"dtype\": \"string\",\n        \"num_unique_values\": 15,\n        \"samples\": [\n          \"APW_ENG_20100106.1325\",\n          \"APW_ENG_20100107.0928\",\n          \"APW_ENG_20100103.0028\"\n        ],\n        \"semantic_type\": \"\",\n        \"description\": \"\"\n      }\n    },\n    {\n      \"column\": \"term\",\n      \"properties\": {\n        \"dtype\": \"string\",\n        \"num_unique_values\": 19,\n        \"samples\": [\n          \"guarani\",\n          \"shakespeare\",\n          \"greyhounds\"\n        ],\n        \"semantic_type\": \"\",\n        \"description\": \"\"\n      }\n    }\n  ]\n}"
            }
          },
          "metadata": {},
          "execution_count": 9
        }
      ]
    },
    {
      "cell_type": "markdown",
      "metadata": {
        "id": "f61xitl1IApl"
      },
      "source": [
        "## Plotting Term Distributions\n",
        "\n",
        "Besides frequencies and tf-idf values within documents, it is often helpful to look at the distrubitions of word frequencies in the whole collection. In class, we talk about the Zipf distribution of word rank versus frequency and Heaps' Law relating the number of distinct words to the number of tokens.\n",
        "\n",
        "We might examine these distributions to see, for instance, if an unexpectedly large number of very rare terms occurs, which might indicate noise added to our data."
      ]
    },
    {
      "cell_type": "code",
      "metadata": {
        "id": "fsM5k1_5Jj7Y"
      },
      "source": [
        "# TODO: Compute a list of the distinct words in this collection and sort it in descending order of frequency.\n",
        "# Thus frequency[0] should contain the word \"the\" and the count 62216.\n",
        "frequency_df = data[[\"term\",\"count\"]].groupby(\"term\", as_index=False).sum().sort_values(by=\"count\", ascending=False)\n",
        "frequency = list(frequency_df.itertuples(index=False, name=None))"
      ],
      "execution_count": 10,
      "outputs": []
    },
    {
      "cell_type": "code",
      "metadata": {
        "id": "hdtc14EULkxS",
        "outputId": "a1a14723-5265-4242-ef3b-08c4149741fb",
        "colab": {
          "base_uri": "https://localhost:8080/",
          "height": 487
        }
      },
      "source": [
        "# TODO: Plot a graph of the log of the rank (starting at 1) on the x-axis,\n",
        "# against the log of the frequency on the y-axis. You may use the matplotlib\n",
        "# or other library.\n",
        "import matplotlib.pyplot as plt\n",
        "\n",
        "frequency_df[\"rank\"] = np.arange(1, len(frequency_df) + 1)\n",
        "\n",
        "# Compute log values\n",
        "frequency_df[\"log_rank\"] = np.log(frequency_df[\"rank\"])\n",
        "frequency_df[\"log_count\"] = np.log(frequency_df[\"count\"])\n",
        "\n",
        "# Plot Zipf's Law: Log-log graph of Rank vs. Frequency\n",
        "plt.figure(figsize=(8, 5))\n",
        "plt.scatter(frequency_df[\"log_rank\"], frequency_df[\"log_count\"], alpha=0.7, label=\"Data\")\n",
        "plt.plot(frequency_df[\"log_rank\"], frequency_df[\"log_count\"], linestyle=\"--\", color=\"red\", label=\"Zipf’s Law Fit\")\n",
        "\n",
        "# Labels and title\n",
        "plt.xlabel(\"Log of Rank\")\n",
        "plt.ylabel(\"Log of Frequency\")\n",
        "plt.title(\"Zipf's Law: Log-Log Plot of Term Frequency vs. Rank\")\n",
        "plt.legend()\n",
        "plt.show()"
      ],
      "execution_count": 11,
      "outputs": [
        {
          "output_type": "display_data",
          "data": {
            "text/plain": [
              "<Figure size 800x500 with 1 Axes>"
            ],
            "image/png": "[encoded data removed]"
          },
          "metadata": {}
        }
      ]
    },
    {
      "cell_type": "code",
      "source": [
        "# TODO: Compute the number of tokens in the corpus.\n",
        "# Remember to count each occurrence of each word. For instance, the 62,216\n",
        "# instances of \"the\" will all count here.\n",
        "ntokens = data[\"count\"].sum()"
      ],
      "metadata": {
        "id": "-WdHjFCSC7WC"
      },
      "execution_count": 12,
      "outputs": []
    },
    {
      "cell_type": "code",
      "source": [
        "# TODO: Compute the proportion of tokens made up by the top 10 most\n",
        "# frequent words.\n",
        "frequency_df['count'][:10].sum() / ntokens"
      ],
      "metadata": {
        "id": "V_7wOcqKAz9m",
        "outputId": "45f06d43-3915-442e-8671-c6e1e995de9d",
        "colab": {
          "base_uri": "https://localhost:8080/"
        }
      },
      "execution_count": 13,
      "outputs": [
        {
          "output_type": "execute_result",
          "data": {
            "text/plain": [
              "0.221568"
            ]
          },
          "metadata": {},
          "execution_count": 13
        }
      ]
    },
    {
      "cell_type": "code",
      "source": [
        "# TODO: Compute the proportion of tokens made up by the words that occur\n",
        "# exactly once in this collection.\n",
        "frequency_df[frequency_df['count']==1]['count'].sum() / ntokens"
      ],
      "metadata": {
        "id": "uF-1VxcZBXMM",
        "outputId": "2f936f19-502a-47b0-90f9-45d15a0e7983",
        "colab": {
          "base_uri": "https://localhost:8080/"
        }
      },
      "execution_count": 14,
      "outputs": [
        {
          "output_type": "execute_result",
          "data": {
            "text/plain": [
              "0.006641"
            ]
          },
          "metadata": {},
          "execution_count": 14
        }
      ]
    },
    {
      "cell_type": "markdown",
      "metadata": {
        "id": "GdiUXaXZMFqT"
      },
      "source": [
        "## Acquiring New Documents (for CS6200)\n",
        "\n",
        "For this assignment so far, you've worked with data that's already been extracted, tokenized, and counted. In this final section, you'll explore acquiring new data.\n",
        "\n",
        "One common way of acquiring data is through application programming interfaces (APIs) to various databases. The Library of Congress's [_Chronicling America_](https://chroniclingamerica.loc.gov/) site aggregates digitized US newspapers from the past two hundred years, such as the [_Seattle Star_](https://chroniclingamerica.loc.gov/lccn/sn87093407/1925-01-17/ed-1/seq-1/) from 100 years ago.\n",
        "\n",
        "You can use [the API](https://chroniclingamerica.loc.gov/about/api/) to retrieve JSON data listing all issues of the _Seattle Star_: https://chroniclingamerica.loc.gov/lccn/sn87093407.json\n",
        "\n",
        "Note the list in the `issues` field. For example, here is the record for the January 17, 1925, issue: https://chroniclingamerica.loc.gov/lccn/sn87093407/1925-01-17/ed-1.json\n",
        "\n",
        "In that issue record, you'll see records for each page, e.g.: https://chroniclingamerica.loc.gov/lccn/sn87093407/1925-01-17/ed-1/seq-1.json\n",
        "\n",
        "And inside that page record, you'll see links to data about that page in various data formats, such as JPEG, PDF, and plain text, which is what we want here: https://chroniclingamerica.loc.gov/lccn/sn87093407/1925-01-17/ed-1/seq-1/ocr.txt\n",
        "\n",
        "This plain text was transcribed from the old page images using optical character recognition (OCR) models, and so contains errors.\n",
        "\n",
        "Your task is to acquire and analyze the issues of the _Seattle Star_ from the month of January, 1925, i.e., the issues with a date field that starts with `1925-01`. This should be about the same amount of data as the million words from the Associated Press you analyzed in the last section."
      ]
    },
    {
      "cell_type": "markdown",
      "metadata": {
        "id": "EGPVnXv2O6AN"
      },
      "source": [
        "**TODO**: Write code that calls the _Chronicling America_ API to download and extract the text from the _Seattle Star_ from January 1925. You can use the `json` library from above and any other libraries you wish to fetch data from URLs. As you would when working with any production API, you may need to limit your rate of requests."
      ]
    },
    {
      "cell_type": "code",
      "metadata": {
        "id": "VeDDz1SaPLik",
        "outputId": "f2f3d16a-b89d-4767-eefa-5907b163e96f",
        "colab": {
          "base_uri": "https://localhost:8080/",
          "height": 294
        }
      },
      "source": [
        "# TODO: Data acquisition code here.\n",
        "import requests\n",
        "import json\n",
        "import time\n",
        "\n",
        "base_url = \"https://chroniclingamerica.loc.gov/lccn/sn87093407.json\"\n",
        "\n",
        "# Add a retry mechanism with exponential backoff\n",
        "max_retries = 3\n",
        "retry_delay = 1\n",
        "\n",
        "for retry in range(max_retries):\n",
        "    response = requests.get(base_url)\n",
        "    if response.status_code == 200:\n",
        "        issues_data = response.json()\n",
        "        break  # Exit loop if successful\n",
        "    else:\n",
        "        print(f\"Request failed with status code {response.status_code}. Retrying in {retry_delay} seconds...\")\n",
        "        time.sleep(retry_delay)\n",
        "        retry_delay *= 2  # Exponential backoff\n",
        "\n",
        "# Handle case where all retries fail\n",
        "if response.status_code != 200:\n",
        "    print(f\"Failed to fetch data after {max_retries} retries.\")\n",
        "    issues_data = None  # or raise an exception\n",
        "\n",
        "\n",
        "# Continue with the rest of the code...\n",
        "january_issues = [\n",
        "    issue for issue in issues_data.get(\"issues\", [])\n",
        "    if issue[\"date_issued\"].startswith(\"1925-01\")\n",
        "]\n",
        "\n",
        "seattle_star_texts = []\n",
        "for issue in january_issues:\n",
        "    issue_url = issue[\"url\"]\n",
        "    issue_response = requests.get(issue_url)\n",
        "    if issue_response.status_code == 200:\n",
        "        issue_record = issue_response.json()\n",
        "        for page in issue_record.get(\"pages\", []):\n",
        "            page_url = page[\"url\"] + \"/ocr.txt\"\n",
        "            page_response = requests.get(page_url)\n",
        "            if page_response.status_code == 200:\n",
        "                seattle_star_texts.append(page_response.text)\n",
        "\n",
        "            time.sleep(2)\n",
        "\n",
        "seattle_star_corpus = \"\\n\".join(seattle_star_texts)\n",
        "len(seattle_star_corpus)"
      ],
      "execution_count": 16,
      "outputs": [
        {
          "output_type": "stream",
          "name": "stdout",
          "text": [
            "Request failed with status code 429. Retrying in 1 seconds...\n",
            "Request failed with status code 429. Retrying in 2 seconds...\n",
            "Request failed with status code 429. Retrying in 4 seconds...\n",
            "Failed to fetch data after 3 retries.\n"
          ]
        },
        {
          "output_type": "error",
          "ename": "AttributeError",
          "evalue": "'NoneType' object has no attribute 'get'",
          "traceback": [
            "\u001b[0;31m---------------------------------------------------------------------------\u001b[0m",
            "\u001b[0;31mAttributeError\u001b[0m                            Traceback (most recent call last)",
            "\u001b[0;32m<ipython-input-16-9b816a039289>\u001b[0m in \u001b[0;36m<cell line: 0>\u001b[0;34m()\u001b[0m\n\u001b[1;32m     28\u001b[0m \u001b[0;31m# Continue with the rest of the code...\u001b[0m\u001b[0;34m\u001b[0m\u001b[0;34m\u001b[0m\u001b[0m\n\u001b[1;32m     29\u001b[0m january_issues = [\n\u001b[0;32m---> 30\u001b[0;31m     \u001b[0missue\u001b[0m \u001b[0;32mfor\u001b[0m \u001b[0missue\u001b[0m \u001b[0;32min\u001b[0m \u001b[0missues_data\u001b[0m\u001b[0;34m.\u001b[0m\u001b[0mget\u001b[0m\u001b[0;34m(\u001b[0m\u001b[0;34m\"issues\"\u001b[0m\u001b[0;34m,\u001b[0m \u001b[0;34m[\u001b[0m\u001b[0;34m]\u001b[0m\u001b[0;34m)\u001b[0m\u001b[0;34m\u001b[0m\u001b[0;34m\u001b[0m\u001b[0m\n\u001b[0m\u001b[1;32m     31\u001b[0m     \u001b[0;32mif\u001b[0m \u001b[0missue\u001b[0m\u001b[0;34m[\u001b[0m\u001b[0;34m\"date_issued\"\u001b[0m\u001b[0;34m]\u001b[0m\u001b[0;34m.\u001b[0m\u001b[0mstartswith\u001b[0m\u001b[0;34m(\u001b[0m\u001b[0;34m\"1925-01\"\u001b[0m\u001b[0;34m)\u001b[0m\u001b[0;34m\u001b[0m\u001b[0;34m\u001b[0m\u001b[0m\n\u001b[1;32m     32\u001b[0m ]\n",
            "\u001b[0;31mAttributeError\u001b[0m: 'NoneType' object has no attribute 'get'"
          ]
        }
      ]
    },
    {
      "cell_type": "markdown",
      "metadata": {
        "id": "L1-oRTixPKbw"
      },
      "source": [
        "**TODO**: Write code to tokenize the text and count the resulting terms in each document. Since this data comes from automatically transcribing printed pages, some words may be hyphenated across line breaks. There is more than one right way to tokenize this data, so add comments to your code documenting your choices."
      ]
    },
    {
      "cell_type": "code",
      "metadata": {
        "id": "Ydsh0h74Pnlh"
      },
      "source": [
        "# TODO: Tokenization code here."
      ],
      "execution_count": null,
      "outputs": []
    },
    {
      "cell_type": "markdown",
      "metadata": {
        "id": "D-boFCotQ4Ur"
      },
      "source": [
        "**TODO**: Plot a graph of the log rank against log frequency for your collection, as you did for the sample collection above."
      ]
    },
    {
      "cell_type": "code",
      "source": [
        "# TODO: Plotting code here."
      ],
      "metadata": {
        "id": "-Z35asgBjiqO"
      },
      "execution_count": null,
      "outputs": []
    },
    {
      "cell_type": "markdown",
      "source": [
        "**TODO**: What do you observe about the differences between the distributions of the Associated Press and Seattle Star collections? In this text box, give some possible reasons for these differences."
      ],
      "metadata": {
        "id": "D5B-h__CjpvI"
      }
    }
  ]
}